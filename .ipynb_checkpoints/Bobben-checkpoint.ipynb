{
 "cells": [
  {
   "cell_type": "markdown",
   "id": "63fac170-5a9f-464c-97a6-966c6b8ac4ca",
   "metadata": {},
   "source": [
    "# Data analysis for Accelerometer timeseries "
   ]
  },
  {
   "cell_type": "code",
   "execution_count": 8,
   "id": "0e885360",
   "metadata": {},
   "outputs": [],
   "source": [
    "import numpy as np\n",
    "import os\n",
    "import matplotlib.pyplot as plt\n",
    "import pandas as pd\n",
    "\n"
   ]
  },
  {
   "cell_type": "code",
   "execution_count": null,
   "id": "ba9b6f7d-177a-469d-8543-1508a5786928",
   "metadata": {},
   "outputs": [],
   "source": []
  },
  {
   "cell_type": "code",
   "execution_count": null,
   "id": "78082bdb-b080-41e1-b2c2-83246915c80f",
   "metadata": {},
   "outputs": [],
   "source": []
  }
 ],
 "metadata": {
  "kernelspec": {
   "display_name": "Python 3 (ipykernel)",
   "language": "python",
   "name": "python3"
  },
  "language_info": {
   "codemirror_mode": {
    "name": "ipython",
    "version": 3
   },
   "file_extension": ".py",
   "mimetype": "text/x-python",
   "name": "python",
   "nbconvert_exporter": "python",
   "pygments_lexer": "ipython3",
   "version": "3.12.0"
  }
 },
 "nbformat": 4,
 "nbformat_minor": 5
}
